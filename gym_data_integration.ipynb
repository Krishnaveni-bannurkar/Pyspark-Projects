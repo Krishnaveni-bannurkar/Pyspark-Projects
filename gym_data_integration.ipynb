{
 "cells": [
  {
   "cell_type": "code",
   "execution_count": 1,
   "id": "780bcb8a",
   "metadata": {},
   "outputs": [],
   "source": [
    "import pyspark"
   ]
  },
  {
   "cell_type": "code",
   "execution_count": 17,
   "id": "c30c2081",
   "metadata": {},
   "outputs": [
    {
     "name": "stdout",
     "output_type": "stream",
     "text": [
      "Appended Data: \n",
      "+-----------+---+--------+-------------------+\n",
      "|       name|age|is_valid|         Login_date|\n",
      "+-----------+---+--------+-------------------+\n",
      "|Krishnaveni| 27|       Y|2021/12/29 13:44:12|\n",
      "|Krishnaveni| 27|       Y|2022/12/29 13:53:56|\n",
      "|Krishnaveni| 27|       Y|2017/12/29 13:56:22|\n",
      "|     Nikhil| 30|       Y|2017/12/29 13:56:22|\n",
      "|     Nikhil| 30|       Y|2021/12/29 13:44:12|\n",
      "|     Nikhil| 30|       Y|2018/12/29 13:43:34|\n",
      "|     Nikhil| 30|       Y|2019/12/29 13:26:11|\n",
      "|    Samhita| 15|       N|2022/04/14 13:53:56|\n",
      "|     Nikhil| 30|       Y|2022/12/29 13:53:56|\n",
      "|     Nikhil| 30|       Y|2020/12/29 13:24:45|\n",
      "|     Nikhil| 30|       Y|2023/04/14 13:56:22|\n",
      "|Krishnaveni| 27|       Y|2023/04/14 13:53:56|\n",
      "+-----------+---+--------+-------------------+\n",
      "\n"
     ]
    }
   ],
   "source": [
    "\n",
    "from pyspark.sql import SparkSession\n",
    "from pyspark.sql.functions import col\n",
    "\n",
    "\n",
    "#creating Spark Session\n",
    "spark = SparkSession.builder.appName(\"Gym_Login\").getOrCreate()\n",
    "\n",
    "#reading Data\n",
    "Read_df = spark.read.csv(\"/Users/krishnaveni/Desktop/old_data.txt\", header=True, inferSchema=True)\n",
    "Read_df2 = spark.read.csv(\"/Users/krishnaveni/Desktop/New_Data.txt\", header=True, inferSchema=True)\n",
    "\n",
    "#Filtering the data based on age, if age is >= 15 we need to show that\n",
    "Filtering_on_Age = Read_df.filter(col('age')>=15)\n",
    "Filtering_on_Age2 = Read_df2.filter(col('age')>=15)\n",
    "\n",
    "# Extracting the latest timestamp from the old data\n",
    "latest_timestamp = Filtering_on_Age.agg({\"Login_date\": \"max\"}).collect()[0][0]\n",
    "\n",
    "# Filtering the new data based on the timestamp column\n",
    "new_data = Filtering_on_Age2.filter(col(\"Login_date\") > latest_timestamp)\n",
    "\n",
    "# Appending the new data to the old data\n",
    "appended_data = Filtering_on_Age.union(new_data).distinct()\n",
    "\n",
    "# Showing the appended data\n",
    "print(\"Appended Data: \")\n",
    "appended_data.show()\n"
   ]
  },
  {
   "cell_type": "code",
   "execution_count": null,
   "id": "cc1b1754",
   "metadata": {},
   "outputs": [],
   "source": []
  }
 ],
 "metadata": {
  "kernelspec": {
   "display_name": "Python 3 (ipykernel)",
   "language": "python",
   "name": "python3"
  },
  "language_info": {
   "codemirror_mode": {
    "name": "ipython",
    "version": 3
   },
   "file_extension": ".py",
   "mimetype": "text/x-python",
   "name": "python",
   "nbconvert_exporter": "python",
   "pygments_lexer": "ipython3",
   "version": "3.10.4"
  }
 },
 "nbformat": 4,
 "nbformat_minor": 5
}
