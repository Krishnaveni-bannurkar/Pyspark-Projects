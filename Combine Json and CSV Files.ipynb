{
 "cells": [
  {
   "cell_type": "code",
   "execution_count": 2,
   "id": "48fb3063",
   "metadata": {},
   "outputs": [
    {
     "name": "stdout",
     "output_type": "stream",
     "text": [
      "Json file Data\n",
      "+---+----+---+-----------+\n",
      "| id|name|age|    address|\n",
      "+---+----+---+-----------+\n",
      "|  1|John| 30|123 Main St|\n",
      "|  2|Jane| 25| 456 Oak St|\n",
      "+---+----+---+-----------+\n",
      "\n",
      "CSV file Data\n",
      "+---+----+------+\n",
      "| id|name| phone|\n",
      "+---+----+------+\n",
      "|  1|John|123456|\n",
      "|  2|Jane|567890|\n",
      "+---+----+------+\n",
      "\n",
      "Combined data\n",
      "+---+----+---+-----------+----+------+\n",
      "| id|name|age|    address|name| phone|\n",
      "+---+----+---+-----------+----+------+\n",
      "|  2|Jane| 25| 456 Oak St|Jane|567890|\n",
      "|  1|John| 30|123 Main St|John|123456|\n",
      "+---+----+---+-----------+----+------+\n",
      "\n"
     ]
    }
   ],
   "source": [
    "\"\"\"#This program joins the data from Json file and the CSV file\n",
    "Json file has the details of people - ID, Name, Age and Address\n",
    "CSV has the ID, name and PHone \n",
    "We need to combine the distinct data\n",
    "\"\"\"\n",
    "#Import Pyspark packages\n",
    "from pyspark.sql import SparkSession\n",
    "from pyspark.sql.functions import explode\n",
    "from pyspark.sql.types import StructType, StructField, ArrayType, LongType, StringType\n",
    "\n",
    "spark = SparkSession.builder.appName(\"json + Csv\").getOrCreate()\n",
    "\n",
    "#sample schema\n",
    "\"\"\"schema = StructType([\n",
    "    StructField(\"persons\", ArrayType(\n",
    "        StructType([\n",
    "            StructField(\"id\", LongType(), True),\n",
    "            StructField(\"name\", StringType(), True),\n",
    "            StructField(\"age\", LongType(), True),\n",
    "            StructField(\"address\", StringType(), True)\n",
    "        ])\n",
    "    ), True)\n",
    "])\n",
    "\n",
    "\n",
    "data_json = spark.read.option(\"multiLine\", \"true\").schema(schema).json(\"/Users/krishnaveni/Desktop/k.json\")\n",
    "\"\"\"\n",
    "#read data from json file\n",
    "data_json = spark.read.option(\"multiLine\", \"true\").json(\"/Users/krishnaveni/Desktop/k.json\")\n",
    "\n",
    "#explode the data\n",
    "data_json = data_json.select(explode(\"persons\").alias(\"person\"))\n",
    "data_json = data_json.select(\"person.id\", \"person.name\", \"person.age\",\"person.address\" )\n",
    "print(\"Json file Data\")\n",
    "data_json.show()\n",
    "\n",
    "#read Data from CSV file\n",
    "data_csv = spark.read.csv(\"/Users/krishnaveni/Desktop/data.csv\" , header=True, inferSchema=True)\n",
    "print(\"CSV file Data\")\n",
    "data_csv.show()\n",
    "\n",
    "#join Json and CSV file Data\n",
    "joined_data = data_json.join(data_csv,'id').distinct()\n",
    "print(\"Combined data\")\n",
    "joined_data.show()"
   ]
  },
  {
   "cell_type": "code",
   "execution_count": null,
   "id": "8d06b87f",
   "metadata": {},
   "outputs": [],
   "source": []
  }
 ],
 "metadata": {
  "kernelspec": {
   "display_name": "Python 3 (ipykernel)",
   "language": "python",
   "name": "python3"
  },
  "language_info": {
   "codemirror_mode": {
    "name": "ipython",
    "version": 3
   },
   "file_extension": ".py",
   "mimetype": "text/x-python",
   "name": "python",
   "nbconvert_exporter": "python",
   "pygments_lexer": "ipython3",
   "version": "3.10.4"
  }
 },
 "nbformat": 4,
 "nbformat_minor": 5
}
