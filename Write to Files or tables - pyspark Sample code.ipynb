{
 "cells": [
  {
   "cell_type": "code",
   "execution_count": null,
   "id": "e3b88914",
   "metadata": {},
   "outputs": [],
   "source": [
    "#Writing data to CSV file, text, from Json,xml,jdbc, hive :\n",
    "\n",
    "#Write data to csv file\n",
    "df1.write.csv(\"path/to/output/csv/file\".options(header = True))\n",
    "\n",
    "#Write data to txt file\n",
    "df2.write.text(\"path/to/output/text/file\")\n",
    "\n",
    "#Write data to json file\n",
    "df3.write.json(\"path/to/output/json/file\")\n",
    "\n",
    "#Write data to xml file\n",
    "df.write\\\n",
    "    .format('com.databricks.spark.xml')\\\n",
    "    .option('rootTag', 'root')\\\n",
    "    .option('rowTag', 'row')\\\n",
    "    .save('path/to/output/xml/file')\n",
    "\n",
    "#Write data to some table - JDBC connection\n",
    "df.write\\\n",
    "    .format('jdbc')\\\n",
    "    .option('url', 'jdbc:mysql://localhost:3306/db')\\\n",
    "    .option('driver', 'com.mysql.jdbc.Driver')\\\n",
    "    .option('dbtable', 'new_table')\\\n",
    "    .option('user', 'root')\\\n",
    "    .option('password', 'password')\\\n",
    "    .mode('overwrite')\\\n",
    "    .save()\n",
    "\n",
    "#Write data to hive\n",
    "from pyspark.sql import HiveContext\n",
    "hive_context = HiveContext(spark)\n",
    "df.write.saveAsTable(\"my_hive_table\")\n",
    "\n"
   ]
  }
 ],
 "metadata": {
  "kernelspec": {
   "display_name": "Python 3 (ipykernel)",
   "language": "python",
   "name": "python3"
  },
  "language_info": {
   "codemirror_mode": {
    "name": "ipython",
    "version": 3
   },
   "file_extension": ".py",
   "mimetype": "text/x-python",
   "name": "python",
   "nbconvert_exporter": "python",
   "pygments_lexer": "ipython3",
   "version": "3.10.4"
  }
 },
 "nbformat": 4,
 "nbformat_minor": 5
}
