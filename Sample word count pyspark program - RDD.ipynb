{
 "cells": [
  {
   "cell_type": "code",
   "execution_count": 6,
   "id": "007ebe6d",
   "metadata": {},
   "outputs": [
    {
     "name": "stdout",
     "output_type": "stream",
     "text": [
      "zsh:1: command not found: pip\r\n"
     ]
    }
   ],
   "source": [
    "!pip install pyspark"
   ]
  },
  {
   "cell_type": "code",
   "execution_count": 1,
   "id": "e0e71dbd",
   "metadata": {},
   "outputs": [
    {
     "name": "stderr",
     "output_type": "stream",
     "text": [
      "23/04/21 10:46:17 WARN Utils: Your hostname, KVs-MacBook-Pro.local resolves to a loopback address: 127.0.0.1; using 192.168.4.26 instead (on interface en0)\n",
      "23/04/21 10:46:17 WARN Utils: Set SPARK_LOCAL_IP if you need to bind to another address\n",
      "WARNING: An illegal reflective access operation has occurred\n",
      "WARNING: Illegal reflective access by org.apache.spark.unsafe.Platform (file:/Users/nikhilkatte/opt/anaconda3/lib/python3.10/site-packages/pyspark/jars/spark-unsafe_2.12-3.2.1.jar) to constructor java.nio.DirectByteBuffer(long,int)\n",
      "WARNING: Please consider reporting this to the maintainers of org.apache.spark.unsafe.Platform\n",
      "WARNING: Use --illegal-access=warn to enable warnings of further illegal reflective access operations\n",
      "WARNING: All illegal access operations will be denied in a future release\n",
      "Using Spark's default log4j profile: org/apache/spark/log4j-defaults.properties\n",
      "Setting default log level to \"WARN\".\n",
      "To adjust logging level use sc.setLogLevel(newLevel). For SparkR, use setLogLevel(newLevel).\n",
      "23/04/21 10:46:18 WARN NativeCodeLoader: Unable to load native-hadoop library for your platform... using builtin-java classes where applicable\n",
      "23/04/21 10:46:19 WARN Utils: Service 'SparkUI' could not bind on port 4040. Attempting port 4041.\n"
     ]
    },
    {
     "name": "stdout",
     "output_type": "stream",
     "text": [
      "Initial partiton count: 2\n",
      "re-partiton count: 2\n"
     ]
    },
    {
     "name": "stderr",
     "output_type": "stream",
     "text": [
      "/Users/nikhilkatte/opt/anaconda3/lib/python3.10/site-packages/pyspark/python/lib/pyspark.zip/pyspark/shuffle.py:60: UserWarning: Please install psutil to have better support with spilling\n",
      "/Users/nikhilkatte/opt/anaconda3/lib/python3.10/site-packages/pyspark/python/lib/pyspark.zip/pyspark/shuffle.py:60: UserWarning: Please install psutil to have better support with spilling\n",
      "(1, 'am')                                                                       \n",
      "(1, 'krishnaveni')\n",
      "(1, 'I')\n",
      "(1, 'Krishnaveni')(3, 'hi')\n",
      "\n",
      "(3, 'hello')\n",
      "(2, 'are')\n",
      "(2, 'how')\n",
      "(2, 'you')\n",
      "(2, 'bannurkar')\n"
     ]
    },
    {
     "name": "stdout",
     "output_type": "stream",
     "text": [
      "Count: 10\n",
      "dataReduce Record: 18\n"
     ]
    }
   ],
   "source": [
    "from pyspark import SparkConf, SparkContext\n",
    "\n",
    "# Create a Spark configuration object\n",
    "conf = SparkConf().setAppName(\"App_Name\")\n",
    "# Set any additional configuration properties\n",
    "conf.set(\"spark.executor.memory\", \"4g\")\n",
    "conf.set(\"spark.executor.cores\",\"4\")\n",
    "conf.set(\"spark.driver.memory\", \"2g\")\n",
    "\n",
    "#create Spark Context\n",
    "sc = SparkContext(conf=conf)\n",
    "\n",
    "#Create an rdd and read data from a text file\n",
    "rdd = sc.textFile(\"/Users/krishnaveni/desktop/textFile\")\n",
    "print(\"Initial partiton count:\", rdd.getNumPartitions())\n",
    "\n",
    "rddRepartitioned = rdd.repartition(4)\n",
    "print(\"re-partiton count:\", rdd.getNumPartitions())\n",
    "\n",
    "#flatmap transformation () to split the words in the file by space\n",
    "rdd_words = rdd.flatMap(lambda k: k.split(\" \"))\n",
    "\n",
    "#map transformation is applied on the rdd to create a new radd of tuples where each word is mapped to value of 1 \n",
    "rdd_map = rdd_words.map(lambda m : (m,1))\n",
    "\n",
    "#filter transformation to filter the wrds starting with alphabet a\n",
    "filtered_rdd = rdd_map.filter(lambda f:f[0].startswith(\"a\"))\n",
    "\n",
    "#reduce by transformation to compute count of each word\n",
    "rdd_reduced_everyword = rdd_map.reduceByKey(lambda x,y: x+y)\n",
    "\n",
    "#swap the word and count in the above rdd and then use the sort by to sort them based on the highest word count\n",
    "rdd_sort = rdd_reduced_everyword.map(lambda s: (s[1],s[0])).sortByKey()\n",
    "\n",
    "rdd_sort.foreach(print)\n",
    "\n",
    "print(\"Count:\", rdd_sort.count())\n",
    "\n",
    "\n",
    "#total wordcount here we are using reduce action and the applying a lambda function to add the count from each tuple of count, word\n",
    "#the result of the below is total count and first word\n",
    "#print will just print the total word count\n",
    "totalWordCount = rdd_sort.reduce(lambda a, b: (a[0] + b[0], a[1]))\n",
    "print(\"dataReduce Record:\", totalWordCount[0])"
   ]
  },
  {
   "cell_type": "code",
   "execution_count": null,
   "id": "0a4e53c3",
   "metadata": {},
   "outputs": [],
   "source": []
  }
 ],
 "metadata": {
  "kernelspec": {
   "display_name": "Python 3 (ipykernel)",
   "language": "python",
   "name": "python3"
  },
  "language_info": {
   "codemirror_mode": {
    "name": "ipython",
    "version": 3
   },
   "file_extension": ".py",
   "mimetype": "text/x-python",
   "name": "python",
   "nbconvert_exporter": "python",
   "pygments_lexer": "ipython3",
   "version": "3.10.4"
  }
 },
 "nbformat": 4,
 "nbformat_minor": 5
}
