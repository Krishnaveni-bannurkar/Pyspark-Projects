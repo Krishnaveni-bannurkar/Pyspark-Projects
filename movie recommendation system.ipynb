{
 "cells": [
  {
   "cell_type": "code",
   "execution_count": 1,
   "id": "cdaa6a68",
   "metadata": {},
   "outputs": [],
   "source": [
    "import pyspark"
   ]
  },
  {
   "cell_type": "code",
   "execution_count": 39,
   "id": "5580e06b",
   "metadata": {},
   "outputs": [
    {
     "name": "stderr",
     "output_type": "stream",
     "text": [
      "23/04/25 12:20:49 WARN CacheManager: Asked to cache already cached data.\n",
      "23/04/25 12:20:50 WARN CacheManager: Asked to cache already cached data.\n"
     ]
    },
    {
     "name": "stdout",
     "output_type": "stream",
     "text": [
      "Filtered data of user 51 and the rating is greater than 4\n",
      "+------+--------------------+--------------------+------+\n",
      "|userId|               title|              genres|rating|\n",
      "+------+--------------------+--------------------+------+\n",
      "|    51|Field of Dreams (...|Children|Drama|Fa...|   5.0|\n",
      "|    51|    Labyrinth (1986)|Adventure|Fantasy...|   5.0|\n",
      "|    51|Much Ado About No...|      Comedy|Romance|   5.0|\n",
      "|    51|Man Who Knew Too ...|Adventure|Drama|M...|   5.0|\n",
      "|    51|Butch Cassidy and...|      Action|Western|   5.0|\n",
      "|    51|Brokeback Mountai...|       Drama|Romance|   5.0|\n",
      "|    51|Misérables, Les (...|Crime|Drama|Roman...|   5.0|\n",
      "|    51|39 Steps, The (1935)|Drama|Mystery|Thr...|   5.0|\n",
      "|    51|Love and Death (1...|              Comedy|   5.0|\n",
      "|    51|History of the Wo...|      Comedy|Musical|   5.0|\n",
      "|    51| Blood Simple (1984)|Crime|Drama|Film-...|   5.0|\n",
      "|    51|Cool Hand Luke (1...|               Drama|   5.0|\n",
      "|    51|       Pecker (1998)|        Comedy|Drama|   4.5|\n",
      "|    51|          Big (1988)|Comedy|Drama|Fant...|   5.0|\n",
      "|    51|Harry and the Hen...|     Children|Comedy|   5.0|\n",
      "|    51|  Unbreakable (2000)|        Drama|Sci-Fi|   5.0|\n",
      "|    51|Hellbound: Hellra...|              Horror|   5.0|\n",
      "|    51|Harry Potter and ...|Adventure|Drama|F...|   5.0|\n",
      "|    51|Kate & Leopold (2...|      Comedy|Romance|   4.5|\n",
      "|    51|Forbidden Planet ...|        Drama|Sci-Fi|   4.5|\n",
      "+------+--------------------+--------------------+------+\n",
      "only showing top 20 rows\n",
      "\n",
      "User 51 top 3 picks: \n",
      "+------+\n",
      "| genre|\n",
      "+------+\n",
      "| Drama|\n",
      "|Comedy|\n",
      "|Action|\n",
      "+------+\n",
      "only showing top 3 rows\n",
      "\n",
      "Recommendations for user 51 based on their top 3 genres:\n"
     ]
    },
    {
     "name": "stderr",
     "output_type": "stream",
     "text": [
      "[Stage 414:======================>                                  (2 + 3) / 5]\r"
     ]
    },
    {
     "name": "stdout",
     "output_type": "stream",
     "text": [
      "+--------------------+--------------------+-----------+\n",
      "|               title|              genres|avg(rating)|\n",
      "+--------------------+--------------------+-----------+\n",
      "|  The Big Bus (1976)|       Action|Comedy|        5.0|\n",
      "|Formula of Love (...|              Comedy|        5.0|\n",
      "| What Love Is (2007)|      Comedy|Romance|        5.0|\n",
      "|Man and a Woman, ...|       Drama|Romance|        5.0|\n",
      "|Sandpiper, The (1...|       Drama|Romance|        5.0|\n",
      "|Bill Hicks: Revel...|              Comedy|        5.0|\n",
      "|A Flintstones Chr...|Animation|Childre...|        5.0|\n",
      "|Dylan Moran: Mons...|  Comedy|Documentary|        5.0|\n",
      "|    Max Manus (2008)|    Action|Drama|War|        5.0|\n",
      "|Chinese Puzzle (C...|      Comedy|Romance|        5.0|\n",
      "+--------------------+--------------------+-----------+\n",
      "only showing top 10 rows\n",
      "\n"
     ]
    },
    {
     "name": "stderr",
     "output_type": "stream",
     "text": [
      "                                                                                \r"
     ]
    }
   ],
   "source": [
    "from pyspark.sql import SparkSession\n",
    "from pyspark.sql.functions import explode, col,split,count,desc\n",
    "\n",
    "\n",
    "# create a Spark session\n",
    "spark = SparkSession.builder.appName(\"Movie recommendation\").getOrCreate()\n",
    "\n",
    "# read the movie and ratings data into Spark DataFrames and cache them\n",
    "read_movie_data = spark.read.csv(\"/Users/Krishnaveni/Desktop/ml-latest-small/movies.csv\",header=True, inferSchema=True).cache()\n",
    "read_ratings_data = spark.read.csv(\"/Users/Krishnaveni/Desktop/ml-latest-small/ratings.csv\",header=True, inferSchema=True).cache()\n",
    "\n",
    "# join the movie and ratings data based on movieId, and select only the relevant columns\n",
    "join_dataframes = read_movie_data.join(read_ratings_data, 'movieId').distinct()\n",
    "join_dataframes = join_dataframes.select(\"userId\", \"title\", \"genres\", \"rating\")\n",
    "\n",
    "# extract the genres from the filtered DataFrame, count their occurrences, and sort by count in descending order\n",
    "filter_rating = join_dataframes.filter((join_dataframes[\"rating\"] > 4) & (join_dataframes[\"userId\"] == 51))\n",
    "print(\"Filtered data of user 51 and the rating is greater than 4\")\n",
    "filter_rating.show()\n",
    "\n",
    "\n",
    "#we need the count of each genre to get more appropriate result.\n",
    "words = filter_rating.select(explode(split(\"genres\", \"\\|\")).alias(\"genre\"))\n",
    "words_count = words.groupBy(\"genre\").agg(count(\"*\").alias(\"count\")).orderBy(\"count\", ascending=False)\n",
    "final_result = words_count.select(\"genre\")\n",
    "#words_count.show()\n",
    "\n",
    "print(\"User 51 top 3 picks: \")\n",
    "top_3_picks = final_result.show(3)\n",
    "                                                                                                                                                                                                                                                                                                                                                                                                                                                                                                                                                                                                                                                                                                                                                                                                                                                        \n",
    "\n",
    "# get the top 3 genres of the user 51\n",
    "top_3_genres = [row.genre for row in final_result.limit(3).collect()]\n",
    "\n",
    "# filter the movies that have at least one of the user's top 3 genres\n",
    "movies_filtered = read_movie_data.filter(read_movie_data.genres.contains(top_3_genres[0]) \\\n",
    "                                          | read_movie_data.genres.contains(top_3_genres[1]) \\\n",
    "                                          | read_movie_data.genres.contains(top_3_genres[2]))\n",
    "\n",
    "# join with ratings data to get the average rating for each movie\n",
    "ratings_avg = join_dataframes.groupBy(\"title\").avg(\"rating\").orderBy(desc(\"avg(rating)\"))\n",
    "\n",
    "# join with filtered movies to get the final recommendations\n",
    "recommendations = ratings_avg.join(movies_filtered, \"title\").select(\"title\", \"genres\", \"avg(rating)\").orderBy(desc(\"avg(rating)\"))\n",
    "\n",
    "print(\"Recommendations for user 51 based on their top 3 genres:\")\n",
    "recommendations.show(10)\n",
    "\n"
   ]
  },
  {
   "cell_type": "code",
   "execution_count": null,
   "id": "cbc29e50",
   "metadata": {},
   "outputs": [],
   "source": []
  }
 ],
 "metadata": {
  "kernelspec": {
   "display_name": "Python 3 (ipykernel)",
   "language": "python",
   "name": "python3"
  },
  "language_info": {
   "codemirror_mode": {
    "name": "ipython",
    "version": 3
   },
   "file_extension": ".py",
   "mimetype": "text/x-python",
   "name": "python",
   "nbconvert_exporter": "python",
   "pygments_lexer": "ipython3",
   "version": "3.10.4"
  }
 },
 "nbformat": 4,
 "nbformat_minor": 5
}
