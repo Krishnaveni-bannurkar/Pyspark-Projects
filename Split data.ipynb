{
 "cells": [
  {
   "cell_type": "code",
   "execution_count": null,
   "id": "d78046d7",
   "metadata": {},
   "outputs": [],
   "source": [
    "#to split the data and create a new column:\n",
    "    \n",
    "from pyspark.sql.functions import split\n",
    "\n",
    "df = spark.read.text(\"path/to/file.txt\")\n",
    "\n",
    "df = df.select(split(df.value, \" \").alias(\"split_col\"))\n",
    "df = df.select(\n",
    "    df.split_col[0].alias(\"date\"),\n",
    "    split(df.split_col[1], \"/\")[0].alias(\"year\"),\n",
    "    split(df.split_col[1], \"/\")[1].alias(\"month\"),\n",
    "    split(df.split_col[1], \"/\")[2].alias(\"day\"),\n",
    "    split(df.split_col[2], \":\")[0].alias(\"hour\"),\n",
    "    split(df.split_col[2], \":\")[1].alias(\"minute\"),\n",
    "    split(df.split_col[2], \":\")[2].alias(\"second\")\n",
    ")\n",
    "\n",
    "df.show()\n"
   ]
  }
 ],
 "metadata": {
  "kernelspec": {
   "display_name": "Python 3 (ipykernel)",
   "language": "python",
   "name": "python3"
  },
  "language_info": {
   "codemirror_mode": {
    "name": "ipython",
    "version": 3
   },
   "file_extension": ".py",
   "mimetype": "text/x-python",
   "name": "python",
   "nbconvert_exporter": "python",
   "pygments_lexer": "ipython3",
   "version": "3.10.4"
  }
 },
 "nbformat": 4,
 "nbformat_minor": 5
}
