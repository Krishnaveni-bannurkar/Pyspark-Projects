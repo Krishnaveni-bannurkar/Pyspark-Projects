{
 "cells": [
  {
   "cell_type": "code",
   "execution_count": null,
   "id": "d3ab6477",
   "metadata": {},
   "outputs": [],
   "source": [
    "#Reading data from an CSV file, text, from Json,xml,jdbc, hive :\n",
    "\n",
    "#import packages\n",
    "from pyspark.sql import SparkSession\n",
    "\n",
    "#start Spark Session\n",
    "spark = SparkSession.builder.appName(\"Name\").getOrCreate()\n",
    "\n",
    "\n",
    "#Read data from a CSV File:\n",
    "df1 = spark.read.csv(\"Path\").options(header = True)\n",
    "new_data = spark.read.csv(\"/path/to/new_data.csv\", header=True, inferSchema=True)\n",
    "\n",
    "\n",
    "#Read data from a Text File:\n",
    "df2 = spark.read.text(\"/path/to/new_data.txt\")\n",
    "\n",
    "#Read data from a Json File:\n",
    "df3 = spark.read.json(\"path/Filename\")\n",
    "data_json = spark.read.option(\"multiLine\", \"true\").json(\"/Users/krishnaveni/Desktop/k.json\")\n",
    "\n",
    "\n",
    "#Read data from a XML File:\n",
    "df4 = spark.read\\\n",
    "            .format('com.databricks.spark.xml')\\\n",
    "            .option('rowTag', 'row')\\\n",
    "            .load('test.xml')\n",
    "\n",
    "#Read data from a JDBC connection File:\n",
    "df5 = spark.read\\\n",
    "            .format('jdbc')\\\n",
    "            .option('url', 'jdbc:mysql://localhost:3306/db')\\\n",
    "            .option('driver', 'com.mysql.jdbc.Driver')\\\n",
    "            .option('dbtable','new_table')\\\n",
    "            .option('user','root')\\\n",
    "            .load()\n",
    "or \n",
    "url = \"jdbc:teradata://<hostname>/<database>\"\n",
    "properties = {\n",
    "    \"user\": \"<username>\",\n",
    "    \"password\": \"<password>\",\n",
    "    \"driver\": \"com.teradata.jdbc.TeraDriver\"\n",
    "}\n",
    "table = \"<table_name>\"\n",
    "df = spark.read.jdbc(url=url, table=table, properties=properties)\n",
    "\n",
    "#Read data from a Hive:\n",
    "from pyspark.sql import hiveContext\n",
    "hive_context = hiveContext(spark)\n",
    "hive_table_df = hive_context.sql(\"Query\")\n",
    "hive_table_df.show()\n"
   ]
  }
 ],
 "metadata": {
  "kernelspec": {
   "display_name": "Python 3 (ipykernel)",
   "language": "python",
   "name": "python3"
  },
  "language_info": {
   "codemirror_mode": {
    "name": "ipython",
    "version": 3
   },
   "file_extension": ".py",
   "mimetype": "text/x-python",
   "name": "python",
   "nbconvert_exporter": "python",
   "pygments_lexer": "ipython3",
   "version": "3.10.4"
  }
 },
 "nbformat": 4,
 "nbformat_minor": 5
}
