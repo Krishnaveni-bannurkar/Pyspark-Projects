{
 "cells": [
  {
   "cell_type": "code",
   "execution_count": null,
   "id": "71e7b609",
   "metadata": {},
   "outputs": [],
   "source": [
    "from pyspark.sql import SparkSession\n",
    "from pyspark.sql.functions import col\n",
    "\n",
    "\n",
    "#creating Spark Session\n",
    "spark = SparkSession.builder.appName(\"Gym_Login\").getOrCreate()\n",
    "\n",
    "#reading Data from 2 files\n",
    "Read_df = spark.read.csv(\"/Users/krishnaveni/Desktop/old_data.txt\", header=True, inferSchema=True)\n",
    "Read_df2 = spark.read.csv(\"/Users/krishnaveni/Desktop/New_Data.txt\", header=True, inferSchema=True)\n",
    "\n",
    "#Filtering the data based on age, if age is >= 15 we need to show that\n",
    "Filtering_on_Age = Read_df.filter(col('age')>=15)\n",
    "Filtering_on_Age2 = Read_df2.filter(col('age')>=15)\n",
    "\n",
    "combined_DF = Filtering_on_Age.union(Filtering_on_Age2).distinct()\n",
    "print(\"Combined Data: \")\n",
    "combined_DF.show()\n",
    "\n",
    "subtracted_data = Read_df2.subtract(Read_df)\n",
    "print(\"Only distinct data: \")\n",
    "subtracted_data.show()\n"
   ]
  }
 ],
 "metadata": {
  "kernelspec": {
   "display_name": "Python 3 (ipykernel)",
   "language": "python",
   "name": "python3"
  },
  "language_info": {
   "codemirror_mode": {
    "name": "ipython",
    "version": 3
   },
   "file_extension": ".py",
   "mimetype": "text/x-python",
   "name": "python",
   "nbconvert_exporter": "python",
   "pygments_lexer": "ipython3",
   "version": "3.10.4"
  }
 },
 "nbformat": 4,
 "nbformat_minor": 5
}
